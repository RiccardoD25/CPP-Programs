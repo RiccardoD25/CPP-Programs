{
  "nbformat": 4,
  "nbformat_minor": 0,
  "metadata": {
    "colab": {
      "provenance": [],
      "toc_visible": true,
      "authorship_tag": "ABX9TyPim0puojVCSWNqBj934avV",
      "include_colab_link": true
    },
    "kernelspec": {
      "name": "python3",
      "display_name": "Python 3"
    },
    "language_info": {
      "name": "python"
    }
  },
  "cells": [
    {
      "cell_type": "markdown",
      "metadata": {
        "id": "view-in-github",
        "colab_type": "text"
      },
      "source": [
        "<a href=\"https://colab.research.google.com/github/RiccardoD25/CPP-Programs/blob/main/Copy_of_Lesson_2.ipynb\" target=\"_parent\"><img src=\"https://colab.research.google.com/assets/colab-badge.svg\" alt=\"Open In Colab\"/></a>"
      ]
    },
    {
      "cell_type": "markdown",
      "source": [
        "# Import the author's utilities\n",
        "## In [1]\n",
        "The file mlwpy must be in he folder for this notebook."
      ],
      "metadata": {
        "id": "WsJBuRoEZzSa"
      }
    },
    {
      "cell_type": "code",
      "source": [
        "from mlwpy import *\n",
        "%matplotlib inline"
      ],
      "metadata": {
        "id": "AZHBW7i4aQND"
      },
      "execution_count": null,
      "outputs": []
    },
    {
      "cell_type": "markdown",
      "source": [
        "# In [2]"
      ],
      "metadata": {
        "id": "9qyJA2Smbgpe"
      }
    },
    {
      "cell_type": "code",
      "source": [
        "np.random.randint(1, 7)"
      ],
      "metadata": {
        "colab": {
          "base_uri": "https://localhost:8080/"
        },
        "id": "9VPwML51bYwH",
        "outputId": "09d64078-96a5-4dbb-9ad1-80684b14477c"
      },
      "execution_count": null,
      "outputs": [
        {
          "output_type": "execute_result",
          "data": {
            "text/plain": [
              "4"
            ]
          },
          "metadata": {},
          "execution_count": 5
        }
      ]
    },
    {
      "cell_type": "markdown",
      "source": [
        "# In [3]"
      ],
      "metadata": {
        "id": "cmmCcwolbq6n"
      }
    },
    {
      "cell_type": "code",
      "source": [
        "few_rolls  = np.random.randint(1, 7, size=10)\n",
        "many_rolls = np.random.randint(1, 7, size=1000)"
      ],
      "metadata": {
        "id": "XOyS10aHbbEF"
      },
      "execution_count": null,
      "outputs": []
    },
    {
      "cell_type": "markdown",
      "source": [
        "# In [4]"
      ],
      "metadata": {
        "id": "0caGR9FfbxP2"
      }
    },
    {
      "cell_type": "code",
      "source": [
        "few_counts  = np.histogram(few_rolls,  bins=np.arange(.5, 7.5))[0]\n",
        "many_counts = np.histogram(many_rolls, bins=np.arange(.5, 7.5))[0]\n",
        "\n",
        "fig, (ax1, ax2) = plt.subplots(1, 2, figsize=(8, 3))\n",
        "ax1.bar(np.arange(1, 7), few_counts)\n",
        "ax2.bar(np.arange(1, 7), many_counts);"
      ],
      "metadata": {
        "colab": {
          "base_uri": "https://localhost:8080/",
          "height": 279
        },
        "id": "onAv1HfdbxvF",
        "outputId": "715d0ef0-8a2a-4f36-ba08-1f210ace660a"
      },
      "execution_count": null,
      "outputs": [
        {
          "output_type": "display_data",
          "data": {
            "text/plain": [
              "<Figure size 800x300 with 2 Axes>"
            ],
            "image/png": "[encoded data removed]"
          },
          "metadata": {}
        }
      ]
    },
    {
      "cell_type": "markdown",
      "source": [
        "#In [5]"
      ],
      "metadata": {
        "id": "NbJR73JPcY4t"
      }
    },
    {
      "cell_type": "code",
      "source": [
        "import scipy.stats as ss\n",
        "\n",
        "b = ss.distributions.binom\n",
        "for flips in [5, 10, 20, 40, 80]:\n",
        "  # binomial with .5 is result of many coin flips\n",
        "   success = np.arange(flips)\n",
        "   our_distribution = b.pmf(success, flips, .5)\n",
        "   plt.hist(success, flips, weights=our_distribution)\n",
        "plt.xlim(0, 55);"
      ],
      "metadata": {
        "colab": {
          "base_uri": "https://localhost:8080/",
          "height": 291
        },
        "id": "wl_DFrnOcZCd",
        "outputId": "ac6ada0a-6003-44ef-bd55-d1f1bd14ab99"
      },
      "execution_count": null,
      "outputs": [
        {
          "output_type": "display_data",
          "data": {
            "text/plain": [
              "<Figure size 400x300 with 1 Axes>"
            ],
            "image/png": "[encoded data removed]"
          },
          "metadata": {}
        }
      ]
    }
  ]
}